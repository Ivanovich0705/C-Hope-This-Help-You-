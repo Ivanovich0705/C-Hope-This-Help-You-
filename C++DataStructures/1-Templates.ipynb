{
  "cells": [
    {
      "cell_type": "markdown",
      "metadata": {
        "id": "pHQfzzk8r5HJ"
      },
      "source": [
        "1. Templates"
      ]
    },
    {
      "cell_type": "code",
      "execution_count": null,
      "metadata": {
        "colab": {
          "base_uri": "https://localhost:8080/"
        },
        "id": "g3_2lDbh7hoU",
        "outputId": "92e6cc58-9d85-4976-a603-02a24d0b43da"
      },
      "outputs": [
        {
          "name": "stdout",
          "output_type": "stream",
          "text": [
            "Overwriting sinTemplates.cpp\n"
          ]
        }
      ],
      "source": [
        "%%writefile sinTemplates.cpp\n",
        "#include <iostream>\n",
        "using std::cout;\n",
        "using std::endl;\n",
        "typedef unsigned long long ull;\n",
        "class Operacion1{\n",
        "    short n1;\n",
        "    short n2;\n",
        "    public:\n",
        "    Operacion1(short n1=0, short n2=0):n1(n1),n2(n2){}\n",
        "    short suma(){return n1+n2;}\n",
        "};\n",
        "class Operacion2{\n",
        "    int n1;\n",
        "    int n2;\n",
        "    public:\n",
        "    Operacion2(int n1=0, int n2=0):n1(n1),n2(n2){}\n",
        "    int suma(){return n1+n2;}\n",
        "};\n",
        "class Operacion3{\n",
        "    ull n1;\n",
        "    ull n2;\n",
        "    public:\n",
        "    Operacion3(ull n1=0, ull n2=0):n1(n1),n2(n2){}\n",
        "    ull suma(){return n1+n2;}\n",
        "};\n",
        "class Operacion4{\n",
        "    double n1;\n",
        "    double n2;\n",
        "    public:\n",
        "    Operacion4(double n1=0, double n2=0):n1(n1),n2(n2){}\n",
        "    double suma(){return n1+n2;}\n",
        "};\n",
        "\n",
        "int main(){\n",
        "    Operacion1 o1(123456789.35,132456.24);\n",
        "    Operacion2 o2(123456789.35,132456.24);\n",
        "    Operacion3 o3(123456789.35,132456.24);\n",
        "    Operacion4 o4(123456789.35,132456.24);\n",
        "    cout<<o1.suma()<<endl;\n",
        "    cout<<o2.suma()<<endl;\n",
        "    cout<<o3.suma()<<endl;\n",
        "    cout<<o4.suma()<<endl;\n",
        "\n",
        "    return 0;\n",
        "}\n"
      ]
    },
    {
      "cell_type": "code",
      "execution_count": null,
      "metadata": {
        "colab": {
          "base_uri": "https://localhost:8080/"
        },
        "id": "OcZngcwn7TNJ",
        "outputId": "6d9ca714-d7f3-43ad-fb4f-d71346302806"
      },
      "outputs": [
        {
          "name": "stdout",
          "output_type": "stream",
          "text": [
            "Writing conTemplates.cpp\n"
          ]
        }
      ],
      "source": [
        "%%writefile conTemplates.cpp\n",
        "#include <iostream>\n",
        "using std::cout;\n",
        "using std::endl;\n",
        "\n",
        "template <class Tipo>\n",
        "class Operacion{\n",
        "    Tipo n1;\n",
        "    Tipo n2;\n",
        "    public:\n",
        "    Operacion(Tipo n1=0, Tipo n2=0):n1(n1),n2(n2){}\n",
        "    Tipo suma(){return n1+n2;}\n",
        "};\n",
        "int main(){\n",
        "    Operacion<short> o1(123456789.35,132456.24);\n",
        "    Operacion<int> o2(123456789.35,132456.24);\n",
        "    Operacion<long long> o3(123456789.35,132456.24);\n",
        "    Operacion<float> o4(123456789.35,132456.24);\n",
        "    cout<<o1.suma()<<endl;\n",
        "    cout<<o2.suma()<<endl;\n",
        "    cout<<o3.suma()<<endl;\n",
        "    cout<<o4.suma()<<endl;\n",
        "    return 0;\n",
        "}"
      ]
    },
    {
      "cell_type": "code",
      "execution_count": null,
      "metadata": {
        "colab": {
          "base_uri": "https://localhost:8080/"
        },
        "id": "f5Hiij-J_bFP",
        "outputId": "7b758854-1e49-44f4-b777-fb0af102269f"
      },
      "outputs": [
        {
          "name": "stdout",
          "output_type": "stream",
          "text": [
            "Overwriting miniproyecto.cpp\n"
          ]
        }
      ],
      "source": [
        "%%writefile miniproyecto.cpp\n",
        "using namespace std;\n",
        "#include <iostream>\n",
        "#include <string>\n",
        "\n",
        "class Enemigo{\n",
        "    string nombre;\n",
        "    public:\n",
        "    Enemigo(){}\n",
        "};\n",
        "class Bala{\n",
        "    string material;\n",
        "    public:\n",
        "    Bala(){material=\"plomo\";}\n",
        "    string getMaterial(){return material;}\n",
        "};\n",
        "class Mapa{\n",
        "    short idx;\n",
        "    public:\n",
        "    Mapa(){}\n",
        "};\n",
        "struct Celular{\n",
        "    string marca;\n",
        "    Celular(){marca=\"Samsung\";}\n",
        "};\n",
        "template <class Tipo>\n",
        "class Arreglo{\n",
        "    Tipo* arr;\n",
        "    int idx;\n",
        "    public:\n",
        "    Arreglo(){\n",
        "        arr=new Tipo[100];\n",
        "        idx=0;\n",
        "    }\n",
        "    void insertar(Tipo o){\n",
        "        if(idx<100)\n",
        "        arr[idx++]=o;\n",
        "    }\n",
        "    Tipo getXPos(int p){\n",
        "        return arr[p];\n",
        "    }\n",
        "\n",
        "};\n",
        "int main(){\n",
        "    Arreglo<Enemigo> enemigos;\n",
        "    Arreglo<Bala> pistola;\n",
        "    Arreglo<Mapa> atlas;\n",
        "    Arreglo<Celular> celulares;\n",
        "    Arreglo<int> enteros;\n",
        "    pistola.insertar(Bala());\n",
        "    celulares.insertar(Celular());\n",
        "    for(size_t i=0;i<10;++i)\n",
        "      enteros.insertar(i);\n",
        "///////////////////mostrar\n",
        "  cout<<pistola.getXPos(0).getMaterial()<<endl;\n",
        "  cout<<celulares.getXPos(0).marca<<endl;\n",
        "    for(size_t i=0;i<10;++i)\n",
        "      cout<<enteros.getXPos(i)<<\" \";\n",
        "return 0;\n",
        "}"
      ]
    },
    {
      "cell_type": "code",
      "execution_count": null,
      "metadata": {
        "colab": {
          "base_uri": "https://localhost:8080/"
        },
        "id": "LhHiSNIMBl5P",
        "outputId": "8a06a194-3af6-4997-d7ce-392e13d93614"
      },
      "outputs": [
        {
          "name": "stdout",
          "output_type": "stream",
          "text": [
            "plomo\n",
            "Samsung\n",
            "0 1 2 3 4 5 6 7 8 9 "
          ]
        }
      ],
      "source": [
        "!g++ miniproyecto.cpp && ./a.out"
      ]
    }
  ],
  "metadata": {
    "colab": {
      "authorship_tag": "ABX9TyPktP/CDBRPAHuzfspEgwuS",
      "collapsed_sections": [],
      "name": "Semana2.ipynb",
      "provenance": []
    },
    "kernelspec": {
      "display_name": "Python 3",
      "name": "python3"
    },
    "language_info": {
      "name": "python"
    }
  },
  "nbformat": 4,
  "nbformat_minor": 0
}
