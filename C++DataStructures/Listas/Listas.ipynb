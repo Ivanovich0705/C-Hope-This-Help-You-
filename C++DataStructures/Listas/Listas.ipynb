{
  "cells": [
    {
      "cell_type": "markdown",
      "metadata": {
        "id": "2OODiC0HV5qS"
      },
      "source": [
        "#Listas Enlazadas"
      ]
    },
    {
      "cell_type": "code",
      "execution_count": null,
      "metadata": {
        "id": "AZ0j6iHIZkGE"
      },
      "outputs": [],
      "source": [
        "%%writefile listas.cpp\n",
        "#include <iostream>\n",
        "#include <cstdlib>\n",
        "using namespace std;\n",
        "int main(){\n",
        "    long arr[10000];\n",
        "    cout<<sizeof(arr)<<endl;//consumo de memoria siempre será la maxima cantidad definida\n",
        "    for(size_t i=0;i<10;++i)\n",
        "        *(arr+i)=rand()%100;//arr[i]\n",
        "    for(size_t i=0;i<10;++i)\n",
        "        cout<<*(arr+i)<<\" \";\n",
        "}"
      ]
    },
    {
      "cell_type": "code",
      "execution_count": null,
      "metadata": {
        "colab": {
          "base_uri": "https://localhost:8080/"
        },
        "id": "3FTfWlsSV1dg",
        "outputId": "11430b6d-c03d-41d4-f698-b8f490b78c23"
      },
      "outputs": [
        {
          "name": "stdout",
          "output_type": "stream",
          "text": [
            "Overwriting listas.cpp\n"
          ]
        }
      ],
      "source": [
        "%%writefile listas.cpp\n",
        "#include <iostream>\n",
        "#include <cstdlib>\n",
        "using namespace std;\n",
        "struct Nodo{\n",
        "    int elemento;\n",
        "    Nodo* siguiente;\n",
        "    Nodo(int e){elemento=e;siguiente=nullptr;}\n",
        "};\n",
        "int main(){\n",
        "//creamos los nodos\n",
        "Nodo* n1=new Nodo(15);\n",
        "Nodo* n2=new Nodo(25);\n",
        "Nodo* n3=new Nodo(35);\n",
        "Nodo* n4=new Nodo(45);\n",
        "Nodo* nuevo=new Nodo(30);\n",
        "//enlazamos\n",
        "n1->siguiente=n2;\n",
        "n2->siguiente=n3;\n",
        "n3->siguiente=n4;\n",
        "cout<<n1->siguiente->elemento<<endl;\n",
        "\n",
        "//cout<<sizeof(*n1)<<endl;\n",
        "cout<<n1<<endl;\n",
        "cout<<n2<<endl;\n",
        "cout<<n3<<endl;\n",
        "\n",
        "}"
      ]
    },
    {
      "cell_type": "code",
      "execution_count": null,
      "metadata": {
        "colab": {
          "base_uri": "https://localhost:8080/"
        },
        "id": "brfsoDAydCMn",
        "outputId": "c422b2b4-b30e-4abe-a634-e8632da16ff4"
      },
      "outputs": [
        {
          "name": "stdout",
          "output_type": "stream",
          "text": [
            "Overwriting listas.cpp\n"
          ]
        }
      ],
      "source": [
        "%%writefile listas.cpp\n",
        "#include <iostream>\n",
        "#include <cstdlib>\n",
        "using namespace std;\n",
        "struct Nodo{\n",
        "    int elemento;\n",
        "    Nodo* siguiente;\n",
        "    Nodo(int e){elemento=e;siguiente=nullptr;}\n",
        "};\n",
        "struct ListaSimple{\n",
        "    Nodo* inicio;\n",
        "    ListaSimple(){\n",
        "        inicio=nullptr;\n",
        "        //asumo que no tiene elementos\n",
        "    }\n",
        "    void insertar(Nodo* n){\n",
        "        //para 0 elementos\n",
        "        if(inicio==nullptr)\n",
        "          inicio=n;\n",
        "        //para 1--m elementos\n",
        "        else\n",
        "        {\n",
        "        Nodo* aux=inicio;\n",
        "        while(aux->siguiente!=nullptr)\n",
        "          aux=aux->siguiente;\n",
        "        aux->siguiente=n;\n",
        "        }\n",
        "    }\n",
        "    void mostrar(){\n",
        "        Nodo* aux=inicio;\n",
        "        while(aux->siguiente!=nullptr){\n",
        "            cout<<aux->elemento<<\" \";\n",
        "            aux=aux->siguiente;\n",
        "          }\n",
        "            cout<<aux->elemento<<\" \";\n",
        "        }\n",
        "};\n",
        "int main(){\n",
        "    ListaSimple ls;\n",
        "    ls.insertar(new Nodo(15));\n",
        "    ls.insertar(new Nodo(25));\n",
        "    ls.insertar(new Nodo(35));\n",
        "    ls.insertar(new Nodo(45));\n",
        "    ls.insertar(new Nodo(55));\n",
        "    ls.mostrar();\n",
        "}"
      ]
    },
    {
      "cell_type": "code",
      "execution_count": null,
      "metadata": {
        "colab": {
          "base_uri": "https://localhost:8080/"
        },
        "id": "yOMyXzYdW6Mc",
        "outputId": "25eb8e53-c25e-4a3b-fe77-30e058bae1b4"
      },
      "outputs": [
        {
          "name": "stdout",
          "output_type": "stream",
          "text": [
            "15 25 35 45 55 "
          ]
        }
      ],
      "source": [
        "!g++ listas.cpp && ./a.out"
      ]
    },
    {
      "cell_type": "code",
      "execution_count": null,
      "metadata": {
        "colab": {
          "base_uri": "https://localhost:8080/"
        },
        "id": "3FUOdQHUW7UF",
        "outputId": "9a8af4ed-2216-4a1c-9583-6607a59b99f7"
      },
      "outputs": [
        {
          "name": "stdout",
          "output_type": "stream",
          "text": [
            "Overwriting listaEnlazada.cpp\n"
          ]
        }
      ],
      "source": [
        "%%writefile listaEnlazada.cpp\n",
        "#include <iostream>\n",
        "#include <cstdlib>\n",
        "using namespace std;\n",
        "template <typename Tipo>\n",
        "struct Nodo{\n",
        "    Tipo elemento;\n",
        "    Nodo<Tipo>* siguiente;\n",
        "    Nodo(Tipo e){elemento=e;siguiente=nullptr;}\n",
        "};\n",
        "template <typename Tipo>\n",
        "struct ListaSimple{\n",
        "    Nodo<Tipo>* inicio;\n",
        "    ListaSimple(){\n",
        "        inicio=nullptr;\n",
        "        //asumo que no tiene elementos\n",
        "    }\n",
        "    void insertar(Nodo<Tipo>* n){\n",
        "        //para 0 elementos\n",
        "        if(inicio==nullptr)\n",
        "          inicio=n;\n",
        "        //para 1--m elementos\n",
        "        else\n",
        "        {\n",
        "        Nodo<Tipo>* aux=inicio;\n",
        "        while(aux->siguiente!=nullptr)\n",
        "          aux=aux->siguiente;\n",
        "        aux->siguiente=n;\n",
        "        }\n",
        "    }\n",
        "    void insertar(Tipo e){\n",
        "        Nodo<Tipo>* nuevo=new Nodo<Tipo>(e);\n",
        "        //para 0 elementos\n",
        "        if(inicio==nullptr)\n",
        "          inicio=nuevo;\n",
        "        //para 1--m elementos\n",
        "        else\n",
        "        {\n",
        "        Nodo<Tipo>* aux=inicio;\n",
        "        while(aux->siguiente!=nullptr)\n",
        "          aux=aux->siguiente;\n",
        "        aux->siguiente=nuevo;\n",
        "        }\n",
        "    }\n",
        "    void mostrar(){\n",
        "        Nodo<Tipo>* aux=inicio;\n",
        "        while(aux->siguiente!=nullptr){\n",
        "            cout<<aux->elemento<<\" \";\n",
        "            aux=aux->siguiente;\n",
        "          }\n",
        "            cout<<aux->elemento<<\" \";\n",
        "    }\n",
        "    int cantidad(){\n",
        "        short c=0;\n",
        "        Nodo<Tipo>* aux=inicio;\n",
        "        while(aux!=nullptr){\n",
        "            c++;\n",
        "            aux=aux->siguiente;\n",
        "        }\n",
        "        return c;\n",
        "    }\n",
        "};\n",
        "class Virus{\n",
        "  string nombre;\n",
        "  short idx;\n",
        "  public:\n",
        "  Virus(string nombre,short idx):nombre(nombre),idx(idx){}\n",
        "  string toString(){return nombre;}\n",
        "};\n",
        "\n",
        "void ejemplo1(){\n",
        "    ListaSimple<int> ls;\n",
        "   /* ls.insertar(new Nodo<int>(15));\n",
        "    ls.insertar(new Nodo<int>(25));\n",
        "    ls.insertar(new Nodo<int>(35));\n",
        "    ls.insertar(new Nodo<int>(45));\n",
        "    ls.insertar(new Nodo<int>(55));\n",
        "    ls.insertar(15);\n",
        "    ls.insertar(25);\n",
        "    ls.insertar(35);\n",
        "    ls.insertar(45);\n",
        "    ls.insertar(55);*/\n",
        "    ls.mostrar();\n",
        "}\n",
        "void ejemplo2(){\n",
        "    ListaSimple<Virus*> ls;   \n",
        "    ls.insertar(new Virus(\"Covid\",1));\n",
        "    ls.insertar(new Virus(\"Influenza\",2));\n",
        "    ls.insertar(new Virus(\"Colera\",3)); \n",
        "    cout<<ls.cantidad()<<endl;\n",
        "}\n",
        "int main(){\n",
        "    ejemplo2();\n",
        "}"
      ]
    }
  ],
  "metadata": {
    "colab": {
      "authorship_tag": "ABX9TyMmDKRlPnwcfisyyait6cUK",
      "name": "Sesion6.ipynb",
      "provenance": []
    },
    "kernelspec": {
      "display_name": "Python 3",
      "name": "python3"
    },
    "language_info": {
      "name": "python"
    }
  },
  "nbformat": 4,
  "nbformat_minor": 0
}
