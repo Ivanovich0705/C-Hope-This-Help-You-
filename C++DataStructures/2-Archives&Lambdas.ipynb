{
  "cells": [
    {
      "cell_type": "markdown",
      "metadata": {
        "id": "mxnj_c-98TY2"
      },
      "source": [
        "#Temario\n",
        "1. Archivos\n",
        "1. Lambdas"
      ]
    },
    {
      "cell_type": "markdown",
      "metadata": {
        "id": "3OYgmJr_8bAK"
      },
      "source": [
        "## Archivos Planos"
      ]
    },
    {
      "cell_type": "code",
      "execution_count": null,
      "metadata": {
        "colab": {
          "base_uri": "https://localhost:8080/"
        },
        "id": "jSvHuC-vKdmI",
        "outputId": "0381cdc3-9246-47f9-84a9-8e2804266866"
      },
      "outputs": [
        {
          "name": "stdout",
          "output_type": "stream",
          "text": [
            "Writing archivos.cpp\n"
          ]
        }
      ],
      "source": [
        "%%writefile archivos.cpp\n",
        "#include <iostream>\n",
        "#include <fstream>\n",
        "#include <vector>\n",
        "using namespace std;\n",
        "void ejercicio1(){\n",
        "    iostream\n",
        "    string mensaje;\n",
        "    cout<<\"Ingresa mensaje\";\n",
        "    getline(cin,mensaje);\n",
        "    cin>>mensaje;\n",
        "    \n",
        "    //fstream\n",
        "    fstream archE(\"CC31.txt\", ios::out);\n",
        "    archE<<\"UPC, exigete e innova\";\n",
        "    archE.close();   \n",
        "\n",
        "    fstream archL(\"CC31.txt\", ios::in);\n",
        "    archL>>mensaje;\n",
        "    getline(archL,mensaje);\n",
        "    cout<<mensaje<<endl;\n",
        "    archL.close();\n",
        "}\n",
        "\n",
        "int main(){\n",
        "  ejercicio1();\n",
        "    return 0;\n",
        "}"
      ]
    },
    {
      "cell_type": "code",
      "execution_count": null,
      "metadata": {
        "colab": {
          "base_uri": "https://localhost:8080/"
        },
        "id": "ea1nS0k3KxKF",
        "outputId": "203a62e0-ba4d-4a3a-be7e-a46185e4bb9e"
      },
      "outputs": [
        {
          "name": "stdout",
          "output_type": "stream",
          "text": [
            "UPC, exigete e innova\n"
          ]
        }
      ],
      "source": [
        "!g++ archivos.cpp && ./a.out"
      ]
    },
    {
      "cell_type": "code",
      "execution_count": null,
      "metadata": {
        "colab": {
          "base_uri": "https://localhost:8080/"
        },
        "id": "6XWrISwbK_7t",
        "outputId": "9dcafbbe-3df4-47ba-ff6e-d8e4054d2826"
      },
      "outputs": [
        {
          "name": "stdout",
          "output_type": "stream",
          "text": [
            "Overwriting archivos.cpp\n"
          ]
        }
      ],
      "source": [
        "%%writefile archivos.cpp\n",
        "#include <iostream>\n",
        "#include <fstream>\n",
        "#include <vector>\n",
        "\n",
        "using namespace std;\n",
        "void ejercicio2(){\n",
        "    string mensaje;\n",
        "    ofstream archE(\"frases.txt\");\n",
        "    archE<<\"UPC, exigete e innova\";\n",
        "    archE.close();   \n",
        "\n",
        "    ifstream archL(\"frases.txt\");    \n",
        "    getline(archL,mensaje);\n",
        "    cout<<mensaje<<endl;\n",
        "    archL.close();\n",
        "}\n",
        "int main(){\n",
        "  ejercicio2();\n",
        "    return 0;\n",
        "}"
      ]
    },
    {
      "cell_type": "code",
      "execution_count": null,
      "metadata": {
        "colab": {
          "base_uri": "https://localhost:8080/"
        },
        "id": "vCiAQetSMbvn",
        "outputId": "4909ccff-7d8e-4d84-9661-c2822bec67fb"
      },
      "outputs": [
        {
          "name": "stdout",
          "output_type": "stream",
          "text": [
            "UPC, exigete e innova\n"
          ]
        }
      ],
      "source": [
        "!g++ archivos.cpp && ./a.out"
      ]
    },
    {
      "cell_type": "code",
      "execution_count": null,
      "metadata": {
        "colab": {
          "base_uri": "https://localhost:8080/"
        },
        "id": "zdb3l0AbDE8s",
        "outputId": "48216b6e-b098-4027-a95f-dadce7572698"
      },
      "outputs": [
        {
          "name": "stdout",
          "output_type": "stream",
          "text": [
            "Writing alumnos.txt\n"
          ]
        }
      ],
      "source": [
        "%%writefile alumnos.txt\n",
        "Jose * Lopez * 20\n",
        "Walter * Cueva * 38\n",
        "Ana *  Cedron * 25\n",
        "Claudia * Gonzalez * 19\n",
        "Jorge * Cabrera * 36"
      ]
    },
    {
      "cell_type": "code",
      "execution_count": null,
      "metadata": {
        "colab": {
          "base_uri": "https://localhost:8080/"
        },
        "id": "y7zv1-Dk7uGd",
        "outputId": "5403401c-5f25-477a-a376-d44aa028a2f8"
      },
      "outputs": [
        {
          "name": "stdout",
          "output_type": "stream",
          "text": [
            "Overwriting archivos.cpp\n"
          ]
        }
      ],
      "source": [
        "%%writefile archivos.cpp\n",
        "#include <iostream>\n",
        "#include <sstream>\n",
        "#include <fstream>\n",
        "#include <vector>\n",
        "using namespace std;\n",
        "struct Persona{\n",
        "    string nombre, apellido;\n",
        "    unsigned short edad;\n",
        "    Persona(string nombre, string apellido,unsigned short edad ): nombre(nombre),\n",
        "    apellido(apellido),edad(edad){  }\n",
        "\n",
        "};\n",
        "void ejercicio3(){\n",
        "    string cadena, aux;\n",
        "    string nombre, apellido;\n",
        "    unsigned short edad;\n",
        "    vector<Persona> personas;\n",
        "    ifstream arch(\"alumnos.txt\");\n",
        "    while(getline(arch,cadena )){\n",
        "        stringstream archMemoria(cadena);\n",
        "        getline(archMemoria,nombre,'*');\n",
        "        getline(archMemoria,apellido,'*');\n",
        "        getline(archMemoria,aux);\n",
        "        edad=stoi(aux);\n",
        "        cout<<edad<<apellido<<\" \"<<nombre<<\" \"<<endl;\n",
        "        personas.push_back(Persona(nombre, apellido, edad));\n",
        "    }\n",
        "    arch.close();\n",
        "    cout<<personas.size();\n",
        "}\n",
        "int main(){\n",
        "  ejercicio3();\n",
        "    return 0;\n",
        "}"
      ]
    },
    {
      "cell_type": "code",
      "execution_count": null,
      "metadata": {
        "colab": {
          "base_uri": "https://localhost:8080/"
        },
        "id": "E0NL-aAf_T08",
        "outputId": "4b5f8471-e687-4d2e-cae8-4ea3f24ed3a3"
      },
      "outputs": [
        {
          "name": "stdout",
          "output_type": "stream",
          "text": [
            "20 Lopez  Jose  \n",
            "38 Cueva  Walter  \n",
            "25  Cedron  Ana  \n",
            "19 Gonzalez  Claudia  \n",
            "36 Cabrera  Jorge  \n",
            "5"
          ]
        }
      ],
      "source": [
        "!g++ archivos.cpp && ./a.out"
      ]
    },
    {
      "cell_type": "markdown",
      "metadata": {
        "id": "pCk3wCgkI9WM"
      },
      "source": [
        "##Lambdas\n",
        "\n",
        "\n",
        "\n",
        "```\n",
        "[]()->{}\n",
        "Donde:\n",
        "[] : Variables globales\n",
        "() : Parametros\n",
        "-> : Tipo de dato de retorno\n",
        "{} : cuerpo de la función\n",
        "```\n",
        "\n"
      ]
    },
    {
      "cell_type": "markdown",
      "metadata": {
        "id": "V2STQUIXKPGI"
      },
      "source": [
        "## Ejemplo 1"
      ]
    },
    {
      "cell_type": "code",
      "execution_count": null,
      "metadata": {
        "colab": {
          "base_uri": "https://localhost:8080/"
        },
        "id": "SICuMC-n_Y4l",
        "outputId": "f22e9dad-9220-4368-9615-4b742cf1d11b"
      },
      "outputs": [
        {
          "name": "stdout",
          "output_type": "stream",
          "text": [
            "Overwriting lambdas.cpp\n"
          ]
        }
      ],
      "source": [
        "%%writefile lambdas.cpp\n",
        "#include <iostream>\n",
        "#include <functional>\n",
        "using namespace std;\n",
        "int mayor(int a, int b){return a>=b?a:b;}//funcion\n",
        "int procesar(function<float(int,int)> criterio){\n",
        "    int x=20;\n",
        "    int y=5;\n",
        "    cout<<criterio(x,y)<<endl;    \n",
        "}\n",
        "int main(){    \n",
        "  auto lmdSuma = [](int a, int b)->float{return a+b;};\n",
        "  auto lmdResta = [](int a, int b)->float{return a-b;};\n",
        "  auto lmdMayor = [](int a, int b)->float{return a>=b?a:b;};\n",
        "  auto lmdMultiplica = [](int a, int b)->float{return a*b;};\n",
        "  auto lmdDivide = [](int a, int b)->float{return a/b;};\n",
        "  procesar(mayor);\n",
        "  procesar(lmdSuma);\n",
        "  procesar(lmdResta);\n",
        "  procesar(lmdMayor);\n",
        "  procesar(lmdMultiplica);\n",
        "  procesar(lmdDivide);\n",
        "\n",
        "    return 0;\n",
        "}"
      ]
    },
    {
      "cell_type": "code",
      "execution_count": null,
      "metadata": {
        "colab": {
          "base_uri": "https://localhost:8080/"
        },
        "id": "Yf0bTEpEMm2w",
        "outputId": "c1d3f1c9-a259-4890-d759-34be06d95cac"
      },
      "outputs": [
        {
          "name": "stdout",
          "output_type": "stream",
          "text": [
            "20\n",
            "25\n",
            "15\n",
            "20\n",
            "100\n",
            "4\n"
          ]
        }
      ],
      "source": [
        "!g++ lambdas.cpp && ./a.out"
      ]
    },
    {
      "cell_type": "markdown",
      "metadata": {
        "id": "p3NtZtmRKSeH"
      },
      "source": [
        "## Ejemplo 2"
      ]
    },
    {
      "cell_type": "code",
      "execution_count": null,
      "metadata": {
        "colab": {
          "base_uri": "https://localhost:8080/"
        },
        "id": "RQRDIKA0MqYF",
        "outputId": "ba8efe69-607c-4de3-b25a-d349a94fde25"
      },
      "outputs": [
        {
          "name": "stdout",
          "output_type": "stream",
          "text": [
            "Overwriting practica.cpp\n"
          ]
        }
      ],
      "source": [
        "%%writefile practica.cpp\n",
        "#include <iostream>\n",
        "#include <fstream>\n",
        "#include <sstream>\n",
        "#include <functional>\n",
        "#include <vector>\n",
        "using namespace std;\n",
        "struct Persona{\n",
        "    string nombre, apellido;\n",
        "    unsigned short edad;\n",
        "    Persona(string nombre, string apellido,unsigned short edad ): nombre(nombre),\n",
        "    apellido(apellido),edad(edad){  }\n",
        "};\n",
        "void lectura(vector<Persona>& personas){\n",
        "    string cadena, aux;\n",
        "    string nombre, apellido;\n",
        "    unsigned short edad;    \n",
        "    ifstream arch(\"alumnos.txt\");\n",
        "    while(getline(arch,cadena )){\n",
        "        stringstream archMemoria(cadena);\n",
        "        getline(archMemoria,nombre,'*');\n",
        "        getline(archMemoria,apellido,'*');\n",
        "        getline(archMemoria,aux);\n",
        "        edad=stoi(aux);\n",
        "       // cout<<edad<<apellido<<\" \"<<nombre<<\" \"<<endl;\n",
        "        personas.push_back(Persona(nombre, apellido, edad));\n",
        "    }\n",
        "    arch.close();\n",
        "   // cout<<personas.size();\n",
        "}\n",
        "void salen(vector<Persona> p,function<void(vector<Persona>)> criterio){\n",
        "    criterio(p);\n",
        "}\n",
        "int main(){\n",
        "    vector<Persona> personas;\n",
        "    lectura(personas);\n",
        "    auto edad=[](vector<Persona> p ){\n",
        "        for(size_t i=0;i<p.size();++i)\n",
        "            if(p[i].edad>18&&p[i].edad<35)\n",
        "              cout<<p[i].nombre<<\" \"<<p[i].apellido<<endl;\n",
        "    };\n",
        "    salen(personas,edad);\n",
        "    return 0;\n",
        "}"
      ]
    },
    {
      "cell_type": "code",
      "execution_count": null,
      "metadata": {
        "colab": {
          "base_uri": "https://localhost:8080/"
        },
        "id": "00MX96EoRxLQ",
        "outputId": "e9c02aa4-6548-4d3f-bdda-66c85604ee22"
      },
      "outputs": [
        {
          "name": "stdout",
          "output_type": "stream",
          "text": [
            "Jose   Lopez \n",
            "Ana    Cedron \n",
            "Claudia   Gonzalez \n"
          ]
        }
      ],
      "source": [
        "!g++ practica.cpp && ./a.out"
      ]
    },
    {
      "cell_type": "code",
      "execution_count": null,
      "metadata": {
        "id": "ei9asen-Rz-H"
      },
      "outputs": [],
      "source": []
    }
  ],
  "metadata": {
    "colab": {
      "authorship_tag": "ABX9TyNshuKPrwW2q3Ue9E/NMBKM",
      "name": "Sesion4.ipynb",
      "provenance": []
    },
    "kernelspec": {
      "display_name": "Python 3",
      "name": "python3"
    },
    "language_info": {
      "name": "python"
    }
  },
  "nbformat": 4,
  "nbformat_minor": 0
}
